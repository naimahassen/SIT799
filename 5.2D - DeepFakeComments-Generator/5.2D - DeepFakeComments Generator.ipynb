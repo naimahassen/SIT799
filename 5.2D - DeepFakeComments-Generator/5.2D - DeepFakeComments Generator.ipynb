{
 "cells": [
  {
   "cell_type": "markdown",
   "metadata": {},
   "source": [
    "GitHub: https://github.com/MYUSER/MYPROJECT/"
   ]
  },
  {
   "cell_type": "markdown",
   "metadata": {},
   "source": [
    "\n",
    "Welcome to your assignment this week! \n",
    "\n",
    "To better understand the adverse use of AI, in this assignment, we will look at a Natural Language Processing use case.\n",
    "\n",
    "\n",
    "Natural Language Pocessing (NLP) is a branch of Artificial Intelligence (AI) that helps computers to understand, to interpret and to manipulate natural (i.e. human) language.\n",
    "Imagine NLP-powered machines as black boxes that are capable of understanding and evaluating the context of the input documents (i.e. collection of words), outputting meaningful results that depend on the task the machine is designed for.\n",
    "\n",
    "\n",
    "![](imgs/1_3zMvUnPzYZF9CSHdj6hT5A.png)\n",
    "\n",
    "<caption><center> Documents are fed into magic NLP model capable to get, for instance, the sentiment of the original content</center></caption>\n",
    "\n",
    "\n",
    "In this notebook, you will implement a model that uses an LSTM to generate fake tweets and comments. You will also be able to try it to generate your own fake text. \n",
    "\n",
    "**You will learn to:**\n",
    "- Apply an LSTM to generate fake comments.\n",
    "- Generate your own fake text with deep learning.\n",
    "\n",
    "Please run the following cell to load all the packages required in this assignment. This may take a few minutes. \n"
   ]
  },
  {
   "cell_type": "code",
   "execution_count": 1,
   "metadata": {},
   "outputs": [],
   "source": [
    "#!pip install numpy\n",
    "#!pip install keras\n",
    "#!pip install tensorflow"
   ]
  },
  {
   "cell_type": "markdown",
   "metadata": {},
   "source": [
    "Run the following cell to load the packages you will need."
   ]
  },
  {
   "cell_type": "code",
   "execution_count": 69,
   "metadata": {},
   "outputs": [],
   "source": [
    "import time\n",
    "from tensorflow.keras.preprocessing.sequence import pad_sequences\n",
    "from tensorflow.keras.layers import Embedding, LSTM, Dense, Dropout, Bidirectional\n",
    "from tensorflow.keras.preprocessing.text import Tokenizer\n",
    "from tensorflow.keras.models import Sequential\n",
    "from tensorflow.keras.optimizers import Adam\n",
    "from tensorflow.keras import regularizers\n",
    "import tensorflow.keras.utils as ku \n",
    "import keras.backend as K\n",
    "import matplotlib.pyplot as plt\n",
    "import numpy as np\n",
    "import pandas as pd\n",
    "import seaborn as sns\n",
    "import matplotlib.pyplot as plt\n",
    "from sklearn.datasets import load_iris"
   ]
  },
  {
   "cell_type": "markdown",
   "metadata": {},
   "source": [
    "# Build the model"
   ]
  },
  {
   "cell_type": "markdown",
   "metadata": {},
   "source": [
    "Let's define a tokenizer and read the data from disk."
   ]
  },
  {
   "cell_type": "code",
   "execution_count": 70,
   "metadata": {},
   "outputs": [],
   "source": [
    "tokenizer = Tokenizer(filters='\"#$%&()*+-/:;<=>@[\\\\]^_`{|}~\\t\\n')\n",
    "data = open('covid19_fake.txt').read().replace(\".\", \" . \").replace(\",\", \" , \").replace(\"?\", \" ? \").replace(\"!\", \" ! \")"
   ]
  },
  {
   "cell_type": "markdown",
   "metadata": {},
   "source": [
    "Now, let's splits the data into tweets  where each line of the input file is a fake tweets.\n",
    "\n",
    "We also extract the vocabulary of the data."
   ]
  },
  {
   "cell_type": "code",
   "execution_count": 71,
   "metadata": {},
   "outputs": [],
   "source": [
    "corpus = data.lower().split(\"\\n\")\n",
    "tokenizer.fit_on_texts(corpus)\n",
    "total_words = len(tokenizer.word_index) + 1"
   ]
  },
  {
   "cell_type": "markdown",
   "metadata": {},
   "source": [
    "You've loaded:\n",
    "- `corpus`: an array where each entry is a fake post.\n",
    "- `tokenizer`: which is the object that we will use to vectorize our dataset. This object also contains our word index.\n",
    "- `total_words`: is the total number of words in the vacabulary.\n"
   ]
  },
  {
   "cell_type": "code",
   "execution_count": 72,
   "metadata": {},
   "outputs": [
    {
     "name": "stdout",
     "output_type": "stream",
     "text": [
      "Example of fake tweets:  ['there is already a vaccine to treat covid19 . ', 'cleaning hands do not help to prevent covid19 . ']\n",
      "Size of the vocabulary =  1257\n",
      "Example of our word index =  [('.', 1), ('the', 2), ('covid19', 3), ('in', 4), ('to', 5), ('a', 6), ('of', 7), (',', 8), ('coronavirus', 9), ('and', 10)]\n"
     ]
    }
   ],
   "source": [
    "print(\"Example of fake tweets: \",corpus[:2])\n",
    "print(\"Size of the vocabulary = \", total_words)\n",
    "index = [(k, v) for k, v in tokenizer.word_index.items()]\n",
    "print(\"Example of our word index = \", index[0:10])"
   ]
  },
  {
   "cell_type": "markdown",
   "metadata": {},
   "source": [
    "The next step aims to generate the training set of n_grams sequences."
   ]
  },
  {
   "cell_type": "code",
   "execution_count": 73,
   "metadata": {},
   "outputs": [],
   "source": [
    "input_sequences = []\n",
    "for line in corpus:\n",
    "    token_list = tokenizer.texts_to_sequences([line])[0]\n",
    "    for i in range(1, len(token_list)):\n",
    "        n_gram_sequence = token_list[:i+1]\n",
    "        input_sequences.append(n_gram_sequence)"
   ]
  },
  {
   "cell_type": "markdown",
   "metadata": {},
   "source": [
    "You've create:\n",
    "- `input_sequences`: which is a list of n_grams sequences."
   ]
  },
  {
   "cell_type": "code",
   "execution_count": 74,
   "metadata": {},
   "outputs": [
    {
     "name": "stdout",
     "output_type": "stream",
     "text": [
      "The entry  20  in 'input_sequences' is: \n",
      "[2, 3, 12, 187, 34, 188]\n",
      " and it corresponds to:\n",
      "the covid19 is same as sars "
     ]
    }
   ],
   "source": [
    "sample = 20\n",
    "reverse_word_map = dict(map(reversed, tokenizer.word_index.items()))\n",
    "print(\"The entry \",sample,\" in 'input_sequences' is: \")\n",
    "print(input_sequences[sample])\n",
    "print(\" and it corresponds to:\")\n",
    "for i in input_sequences[sample]:\n",
    "    print(reverse_word_map[i], end=' ')\n",
    "                        "
   ]
  },
  {
   "cell_type": "markdown",
   "metadata": {},
   "source": [
    "Next, we padd our training set to the max length in order to be able to make a batch processing."
   ]
  },
  {
   "cell_type": "code",
   "execution_count": 75,
   "metadata": {},
   "outputs": [],
   "source": [
    "max_sequence_len = max([len(x) for x in input_sequences])\n",
    "input_sequences = np.array(pad_sequences(input_sequences, maxlen=max_sequence_len, padding='pre'))"
   ]
  },
  {
   "cell_type": "markdown",
   "metadata": {},
   "source": [
    "Run the following to see the containt of the padded 'input_sequences' object."
   ]
  },
  {
   "cell_type": "code",
   "execution_count": 76,
   "metadata": {},
   "outputs": [
    {
     "name": "stdout",
     "output_type": "stream",
     "text": [
      "The entry  20  in 'input_sequences' is: \n",
      "[  0   0   0   0   0   0   0   0   0   0   0   0   0   0   0   0   0   0\n",
      "   0   0   0   0   0   0   0   0   0   0   0   0   0   0   0   0   0   0\n",
      "   0   0   0   0   0   0   0   0   0   0   0   0   0   0   0   0   0   0\n",
      "   0   2   3  12 187  34 188]\n",
      " and it corresponds to:\n",
      "[ __ __ __ __ __ __ __ __ __ __ __ __ __ __ __ __ __ __ __ __ __ __ __ __ __ __ __ __ __ __ __ __ __ __ __ __ __ __ __ __ __ __ __ __ __ __ __ __ __ __ __ __ __ __ __ the covid19 is same as sars ]\n"
     ]
    }
   ],
   "source": [
    "reverse_word_map = dict(map(reversed, tokenizer.word_index.items()))\n",
    "print(\"The entry \",sample,\" in 'input_sequences' is: \")\n",
    "print(input_sequences[sample])\n",
    "print(\" and it corresponds to:\")\n",
    "print(\"[\", end=' ')\n",
    "for i in input_sequences[sample]:\n",
    "    if i in reverse_word_map:\n",
    "        print(reverse_word_map[i], end=' ')\n",
    "    else:\n",
    "        print(\"__\", end=' ')\n",
    "print(\"]\")\n",
    "                "
   ]
  },
  {
   "cell_type": "markdown",
   "metadata": {},
   "source": [
    "Given a sentence like **\"the covid19 is same as \"**, we want to design a model that can predict the next word -- in the case the word **\"sars\"**.\n",
    "\n",
    "Therefore, the next code prepares our input and output to our model consequently."
   ]
  },
  {
   "cell_type": "code",
   "execution_count": 77,
   "metadata": {},
   "outputs": [],
   "source": [
    "input_to_model, label = input_sequences[:,:-1],input_sequences[:,-1]\n"
   ]
  },
  {
   "cell_type": "code",
   "execution_count": 78,
   "metadata": {},
   "outputs": [
    {
     "name": "stdout",
     "output_type": "stream",
     "text": [
      "The entry  20  in 'input_sequences' is: \n",
      "[  0   0   0   0   0   0   0   0   0   0   0   0   0   0   0   0   0   0\n",
      "   0   0   0   0   0   0   0   0   0   0   0   0   0   0   0   0   0   0\n",
      "   0   0   0   0   0   0   0   0   0   0   0   0   0   0   0   0   0   0\n",
      "   0   2   3  12 187  34 188]\n",
      ", it corresponds to the following input to our model:\n",
      "[  0   0   0   0   0   0   0   0   0   0   0   0   0   0   0   0   0   0\n",
      "   0   0   0   0   0   0   0   0   0   0   0   0   0   0   0   0   0   0\n",
      "   0   0   0   0   0   0   0   0   0   0   0   0   0   0   0   0   0   0\n",
      "   0   2   3  12 187  34]\n",
      " and the following output:  188\n"
     ]
    }
   ],
   "source": [
    "print(\"The entry \",sample,\" in 'input_sequences' is: \")\n",
    "print(input_sequences[sample])\n",
    "print(\", it corresponds to the following input to our model:\")\n",
    "print(input_to_model[sample])\n",
    "print(\" and the following output: \", label[sample])\n"
   ]
  },
  {
   "cell_type": "markdown",
   "metadata": {},
   "source": [
    "Finally, we convert our label to categorical labels for being processed by our model."
   ]
  },
  {
   "cell_type": "code",
   "execution_count": 79,
   "metadata": {},
   "outputs": [],
   "source": [
    "label = ku.to_categorical(label, num_classes=total_words)"
   ]
  },
  {
   "cell_type": "markdown",
   "metadata": {},
   "source": [
    "Here is the architecture of the model we will use:\n",
    "\n",
    "![](imgs/text_generation.png)\n",
    "\n"
   ]
  },
  {
   "cell_type": "markdown",
   "metadata": {},
   "source": [
    " \n",
    "**Task 1**: Implement `deep_fake_comment_model()`. You will need to carry out 5 steps:\n",
    "\n",
    "1. Create a sequencial model using the `Sequential` class\n",
    "2. Add an embedding layer to the model using the `Embedding` class of size 128\n",
    "3. Add an LSTM layer to the model using the `LSTM` class of size 128\n",
    "4. Add a Dense layer to the model using the `Dense` class with a `softmax` activation\n",
    "5. Set a `categorical_crossentropy` loss function to the model and optimize `accuracy`.\n"
   ]
  },
  {
   "cell_type": "code",
   "execution_count": 80,
   "metadata": {},
   "outputs": [
    {
     "name": "stdout",
     "output_type": "stream",
     "text": [
      "Model: \"sequential_1\"\n",
      "_________________________________________________________________\n",
      "Layer (type)                 Output Shape              Param #   \n",
      "=================================================================\n",
      "embedding_1 (Embedding)      (None, None, 128)         160896    \n",
      "_________________________________________________________________\n",
      "lstm_1 (LSTM)                (None, 128)               131584    \n",
      "_________________________________________________________________\n",
      "dense_1 (Dense)              (None, 1257)              162153    \n",
      "=================================================================\n",
      "Total params: 454,633\n",
      "Trainable params: 454,633\n",
      "Non-trainable params: 0\n",
      "_________________________________________________________________\n"
     ]
    }
   ],
   "source": [
    "#TASK 1\n",
    "# deep_fake_comment_model\n",
    "\n",
    "def deep_fake_comment_model():\n",
    "    ### START CODE HERE ### \n",
    "    pass\n",
    "    model = Sequential([\n",
    "        Embedding(total_words, 128),\n",
    "        LSTM(units = 128),\n",
    "        Dense(total_words, activation='softmax')])\n",
    "   \n",
    "    model.compile(loss='categorical_crossentropy', optimizer='adam', metrics=['accuracy'])\n",
    "              \n",
    "    return model\n",
    "    \n",
    "    ### END CODE HERE ### \n",
    "    \n",
    "#Print details of the model.\n",
    "model = deep_fake_comment_model()\n",
    "model.summary()\n"
   ]
  },
  {
   "cell_type": "markdown",
   "metadata": {},
   "source": [
    "Now, let's start our training."
   ]
  },
  {
   "cell_type": "code",
   "execution_count": 82,
   "metadata": {
    "scrolled": false
   },
   "outputs": [
    {
     "name": "stdout",
     "output_type": "stream",
     "text": [
      "Epoch 1/200\n",
      "126/126 [==============================] - 7s 57ms/step - loss: 5.7262 - accuracy: 0.0913\n",
      "Epoch 2/200\n",
      "126/126 [==============================] - 7s 57ms/step - loss: 5.5489 - accuracy: 0.1186\n",
      "Epoch 3/200\n",
      "126/126 [==============================] - 7s 55ms/step - loss: 5.3287 - accuracy: 0.1340\n",
      "Epoch 4/200\n",
      "126/126 [==============================] - 7s 56ms/step - loss: 5.1178 - accuracy: 0.1504\n",
      "Epoch 5/200\n",
      "126/126 [==============================] - 7s 55ms/step - loss: 4.9119 - accuracy: 0.1682\n",
      "Epoch 6/200\n",
      "126/126 [==============================] - 7s 55ms/step - loss: 4.7216 - accuracy: 0.1804\n",
      "Epoch 7/200\n",
      "126/126 [==============================] - 7s 55ms/step - loss: 4.5403 - accuracy: 0.1913\n",
      "Epoch 8/200\n",
      "126/126 [==============================] - 7s 55ms/step - loss: 4.3671 - accuracy: 0.2069\n",
      "Epoch 9/200\n",
      "126/126 [==============================] - 7s 59ms/step - loss: 4.1950 - accuracy: 0.2203\n",
      "Epoch 10/200\n",
      "126/126 [==============================] - 7s 56ms/step - loss: 4.0222 - accuracy: 0.2308\n",
      "Epoch 11/200\n",
      "126/126 [==============================] - 7s 56ms/step - loss: 3.8504 - accuracy: 0.2504\n",
      "Epoch 12/200\n",
      "126/126 [==============================] - 7s 55ms/step - loss: 3.6843 - accuracy: 0.2712\n",
      "Epoch 13/200\n",
      "126/126 [==============================] - 7s 56ms/step - loss: 3.5113 - accuracy: 0.2935\n",
      "Epoch 14/200\n",
      "126/126 [==============================] - 7s 57ms/step - loss: 3.3441 - accuracy: 0.3174\n",
      "Epoch 15/200\n",
      "126/126 [==============================] - 7s 57ms/step - loss: 3.1795 - accuracy: 0.3471\n",
      "Epoch 16/200\n",
      "126/126 [==============================] - 7s 56ms/step - loss: 3.0145 - accuracy: 0.3779\n",
      "Epoch 17/200\n",
      "126/126 [==============================] - 7s 56ms/step - loss: 2.8575 - accuracy: 0.4042\n",
      "Epoch 18/200\n",
      "126/126 [==============================] - 7s 56ms/step - loss: 2.6990 - accuracy: 0.4350\n",
      "Epoch 19/200\n",
      "126/126 [==============================] - 7s 56ms/step - loss: 2.5485 - accuracy: 0.4653\n",
      "Epoch 20/200\n",
      "126/126 [==============================] - 7s 56ms/step - loss: 2.4005 - accuracy: 0.4958\n",
      "Epoch 21/200\n",
      "126/126 [==============================] - 7s 56ms/step - loss: 2.2572 - accuracy: 0.5337\n",
      "Epoch 22/200\n",
      "126/126 [==============================] - 7s 55ms/step - loss: 2.1211 - accuracy: 0.5682\n",
      "Epoch 23/200\n",
      "126/126 [==============================] - 7s 56ms/step - loss: 1.9825 - accuracy: 0.6052\n",
      "Epoch 24/200\n",
      "126/126 [==============================] - 7s 56ms/step - loss: 1.8553 - accuracy: 0.6395\n",
      "Epoch 25/200\n",
      "126/126 [==============================] - 7s 56ms/step - loss: 1.7360 - accuracy: 0.6653\n",
      "Epoch 26/200\n",
      "126/126 [==============================] - 7s 56ms/step - loss: 1.6198 - accuracy: 0.7015\n",
      "Epoch 27/200\n",
      "126/126 [==============================] - 7s 56ms/step - loss: 1.5109 - accuracy: 0.7308\n",
      "Epoch 28/200\n",
      "126/126 [==============================] - 7s 57ms/step - loss: 1.4080 - accuracy: 0.7526\n",
      "Epoch 29/200\n",
      "126/126 [==============================] - 7s 55ms/step - loss: 1.3133 - accuracy: 0.7717\n",
      "Epoch 30/200\n",
      "126/126 [==============================] - 7s 56ms/step - loss: 1.2248 - accuracy: 0.7935\n",
      "Epoch 31/200\n",
      "126/126 [==============================] - 7s 56ms/step - loss: 1.1415 - accuracy: 0.8065\n",
      "Epoch 32/200\n",
      "126/126 [==============================] - 7s 56ms/step - loss: 1.0641 - accuracy: 0.8206\n",
      "Epoch 33/200\n",
      "126/126 [==============================] - 7s 56ms/step - loss: 0.9916 - accuracy: 0.8377\n",
      "Epoch 34/200\n",
      "126/126 [==============================] - 7s 57ms/step - loss: 0.9275 - accuracy: 0.8489\n",
      "Epoch 35/200\n",
      "126/126 [==============================] - 7s 56ms/step - loss: 0.8647 - accuracy: 0.8643\n",
      "Epoch 36/200\n",
      "126/126 [==============================] - 7s 56ms/step - loss: 0.8096 - accuracy: 0.8752\n",
      "Epoch 37/200\n",
      "126/126 [==============================] - 7s 56ms/step - loss: 0.7574 - accuracy: 0.8868\n",
      "Epoch 38/200\n",
      "126/126 [==============================] - 7s 56ms/step - loss: 0.7083 - accuracy: 0.8901\n",
      "Epoch 39/200\n",
      "126/126 [==============================] - 7s 56ms/step - loss: 0.6658 - accuracy: 0.8970\n",
      "Epoch 40/200\n",
      "126/126 [==============================] - 7s 56ms/step - loss: 0.6248 - accuracy: 0.9062\n",
      "Epoch 41/200\n",
      "126/126 [==============================] - 7s 56ms/step - loss: 0.5866 - accuracy: 0.9097\n",
      "Epoch 42/200\n",
      "126/126 [==============================] - 7s 57ms/step - loss: 0.5513 - accuracy: 0.9161\n",
      "Epoch 43/200\n",
      "126/126 [==============================] - 7s 56ms/step - loss: 0.5193 - accuracy: 0.9199\n",
      "Epoch 44/200\n",
      "126/126 [==============================] - 7s 57ms/step - loss: 0.4896 - accuracy: 0.9231\n",
      "Epoch 45/200\n",
      "126/126 [==============================] - 7s 55ms/step - loss: 0.4640 - accuracy: 0.9253\n",
      "Epoch 46/200\n",
      "126/126 [==============================] - 7s 56ms/step - loss: 0.4378 - accuracy: 0.9273\n",
      "Epoch 47/200\n",
      "126/126 [==============================] - 7s 56ms/step - loss: 0.4130 - accuracy: 0.9340\n",
      "Epoch 48/200\n",
      "126/126 [==============================] - 7s 56ms/step - loss: 0.3912 - accuracy: 0.9347\n",
      "Epoch 49/200\n",
      "126/126 [==============================] - 7s 56ms/step - loss: 0.3731 - accuracy: 0.9365\n",
      "Epoch 50/200\n",
      "126/126 [==============================] - 7s 56ms/step - loss: 0.3533 - accuracy: 0.9355\n",
      "Epoch 51/200\n",
      "126/126 [==============================] - 7s 57ms/step - loss: 0.3377 - accuracy: 0.9409\n",
      "Epoch 52/200\n",
      "126/126 [==============================] - 7s 56ms/step - loss: 0.3220 - accuracy: 0.9404\n",
      "Epoch 53/200\n",
      "126/126 [==============================] - 7s 56ms/step - loss: 0.3090 - accuracy: 0.9424\n",
      "Epoch 54/200\n",
      "126/126 [==============================] - 7s 56ms/step - loss: 0.2948 - accuracy: 0.9414\n",
      "Epoch 55/200\n",
      "126/126 [==============================] - 7s 56ms/step - loss: 0.2839 - accuracy: 0.9454\n",
      "Epoch 56/200\n",
      "126/126 [==============================] - 7s 56ms/step - loss: 0.2719 - accuracy: 0.9449\n",
      "Epoch 57/200\n",
      "126/126 [==============================] - 7s 56ms/step - loss: 0.2622 - accuracy: 0.9449\n",
      "Epoch 58/200\n",
      "126/126 [==============================] - 7s 56ms/step - loss: 0.2538 - accuracy: 0.9462\n",
      "Epoch 59/200\n",
      "126/126 [==============================] - 7s 57ms/step - loss: 0.2452 - accuracy: 0.9457\n",
      "Epoch 60/200\n",
      "126/126 [==============================] - 7s 56ms/step - loss: 0.2376 - accuracy: 0.9469\n",
      "Epoch 61/200\n",
      "126/126 [==============================] - 7s 56ms/step - loss: 0.2291 - accuracy: 0.9467\n",
      "Epoch 62/200\n",
      "126/126 [==============================] - 7s 56ms/step - loss: 0.2223 - accuracy: 0.9476\n",
      "Epoch 63/200\n",
      "126/126 [==============================] - 7s 56ms/step - loss: 0.2181 - accuracy: 0.9462\n",
      "Epoch 64/200\n",
      "126/126 [==============================] - 7s 56ms/step - loss: 0.2124 - accuracy: 0.9476\n",
      "Epoch 65/200\n",
      "126/126 [==============================] - 7s 56ms/step - loss: 0.2061 - accuracy: 0.9459\n",
      "Epoch 66/200\n",
      "126/126 [==============================] - 7s 56ms/step - loss: 0.2011 - accuracy: 0.9474\n",
      "Epoch 67/200\n",
      "126/126 [==============================] - 7s 56ms/step - loss: 0.1956 - accuracy: 0.9474\n",
      "Epoch 68/200\n",
      "126/126 [==============================] - 7s 57ms/step - loss: 0.1915 - accuracy: 0.9479\n",
      "Epoch 69/200\n",
      "126/126 [==============================] - 7s 56ms/step - loss: 0.1885 - accuracy: 0.9462\n",
      "Epoch 70/200\n",
      "126/126 [==============================] - 7s 56ms/step - loss: 0.1841 - accuracy: 0.9481\n",
      "Epoch 71/200\n",
      "126/126 [==============================] - 7s 56ms/step - loss: 0.1809 - accuracy: 0.9474\n",
      "Epoch 72/200\n",
      "126/126 [==============================] - 7s 56ms/step - loss: 0.1777 - accuracy: 0.9501\n",
      "Epoch 73/200\n",
      "126/126 [==============================] - 7s 56ms/step - loss: 0.1758 - accuracy: 0.9464\n",
      "Epoch 74/200\n",
      "126/126 [==============================] - 7s 56ms/step - loss: 0.1725 - accuracy: 0.9484\n",
      "Epoch 75/200\n",
      "126/126 [==============================] - 7s 56ms/step - loss: 0.1710 - accuracy: 0.9484\n",
      "Epoch 76/200\n",
      "126/126 [==============================] - 7s 57ms/step - loss: 0.1708 - accuracy: 0.9469\n",
      "Epoch 77/200\n",
      "126/126 [==============================] - 7s 57ms/step - loss: 0.1667 - accuracy: 0.9462\n",
      "Epoch 78/200\n",
      "126/126 [==============================] - 7s 56ms/step - loss: 0.1634 - accuracy: 0.9509\n",
      "Epoch 79/200\n",
      "126/126 [==============================] - 7s 56ms/step - loss: 0.1616 - accuracy: 0.9476\n",
      "Epoch 80/200\n"
     ]
    },
    {
     "name": "stdout",
     "output_type": "stream",
     "text": [
      "126/126 [==============================] - 7s 54ms/step - loss: 0.1600 - accuracy: 0.9491\n",
      "Epoch 81/200\n",
      "126/126 [==============================] - 7s 54ms/step - loss: 0.1582 - accuracy: 0.9481\n",
      "Epoch 82/200\n",
      "126/126 [==============================] - 7s 54ms/step - loss: 0.1555 - accuracy: 0.9506\n",
      "Epoch 83/200\n",
      "126/126 [==============================] - 7s 54ms/step - loss: 0.1540 - accuracy: 0.9489\n",
      "Epoch 84/200\n",
      "126/126 [==============================] - 7s 55ms/step - loss: 0.1546 - accuracy: 0.9491\n",
      "Epoch 85/200\n",
      "126/126 [==============================] - 7s 54ms/step - loss: 0.1525 - accuracy: 0.9486\n",
      "Epoch 86/200\n",
      "126/126 [==============================] - 7s 54ms/step - loss: 0.1514 - accuracy: 0.9489\n",
      "Epoch 87/200\n",
      "126/126 [==============================] - 8s 62ms/step - loss: 0.1494 - accuracy: 0.9491\n",
      "Epoch 88/200\n",
      "126/126 [==============================] - 7s 55ms/step - loss: 0.1477 - accuracy: 0.9479\n",
      "Epoch 89/200\n",
      "126/126 [==============================] - 7s 55ms/step - loss: 0.1471 - accuracy: 0.9484\n",
      "Epoch 90/200\n",
      "126/126 [==============================] - 7s 55ms/step - loss: 0.1463 - accuracy: 0.9489\n",
      "Epoch 91/200\n",
      "126/126 [==============================] - 7s 55ms/step - loss: 0.1455 - accuracy: 0.9494\n",
      "Epoch 92/200\n",
      "126/126 [==============================] - 7s 55ms/step - loss: 0.1457 - accuracy: 0.9471\n",
      "Epoch 93/200\n",
      "126/126 [==============================] - 7s 56ms/step - loss: 0.1441 - accuracy: 0.9506\n",
      "Epoch 94/200\n",
      "126/126 [==============================] - 7s 55ms/step - loss: 0.1455 - accuracy: 0.9486\n",
      "Epoch 95/200\n",
      "126/126 [==============================] - 7s 55ms/step - loss: 0.1458 - accuracy: 0.9469\n",
      "Epoch 96/200\n",
      "126/126 [==============================] - 7s 55ms/step - loss: 0.1424 - accuracy: 0.9486\n",
      "Epoch 97/200\n",
      "126/126 [==============================] - 7s 55ms/step - loss: 0.1416 - accuracy: 0.9509\n",
      "Epoch 98/200\n",
      "126/126 [==============================] - 7s 55ms/step - loss: 0.1395 - accuracy: 0.9506\n",
      "Epoch 99/200\n",
      "126/126 [==============================] - 7s 56ms/step - loss: 0.1391 - accuracy: 0.9479\n",
      "Epoch 100/200\n",
      "126/126 [==============================] - 7s 56ms/step - loss: 0.1380 - accuracy: 0.9474\n",
      "Epoch 101/200\n",
      "126/126 [==============================] - 7s 56ms/step - loss: 0.1384 - accuracy: 0.9499\n",
      "Epoch 102/200\n",
      "126/126 [==============================] - 7s 55ms/step - loss: 0.1381 - accuracy: 0.9504\n",
      "Epoch 103/200\n",
      "126/126 [==============================] - 7s 56ms/step - loss: 0.1380 - accuracy: 0.9486\n",
      "Epoch 104/200\n",
      "126/126 [==============================] - 7s 56ms/step - loss: 0.1370 - accuracy: 0.9494\n",
      "Epoch 105/200\n",
      "126/126 [==============================] - 7s 56ms/step - loss: 0.1364 - accuracy: 0.9476\n",
      "Epoch 106/200\n",
      "126/126 [==============================] - 7s 56ms/step - loss: 0.1361 - accuracy: 0.9491\n",
      "Epoch 107/200\n",
      "126/126 [==============================] - 7s 56ms/step - loss: 0.1345 - accuracy: 0.9491\n",
      "Epoch 108/200\n",
      "126/126 [==============================] - 7s 56ms/step - loss: 0.1345 - accuracy: 0.9501\n",
      "Epoch 109/200\n",
      "126/126 [==============================] - 7s 56ms/step - loss: 0.1348 - accuracy: 0.9509\n",
      "Epoch 110/200\n",
      "126/126 [==============================] - 7s 57ms/step - loss: 0.1350 - accuracy: 0.9499\n",
      "Epoch 111/200\n",
      "126/126 [==============================] - 7s 56ms/step - loss: 0.1391 - accuracy: 0.9484\n",
      "Epoch 112/200\n",
      "126/126 [==============================] - 8s 60ms/step - loss: 0.1376 - accuracy: 0.9479\n",
      "Epoch 113/200\n",
      "126/126 [==============================] - 7s 56ms/step - loss: 0.1358 - accuracy: 0.9491\n",
      "Epoch 114/200\n",
      "126/126 [==============================] - 7s 56ms/step - loss: 0.1391 - accuracy: 0.9481\n",
      "Epoch 115/200\n",
      "126/126 [==============================] - 7s 56ms/step - loss: 0.1458 - accuracy: 0.9474\n",
      "Epoch 116/200\n",
      "126/126 [==============================] - 7s 58ms/step - loss: 0.1574 - accuracy: 0.9449\n",
      "Epoch 117/200\n",
      "126/126 [==============================] - 7s 57ms/step - loss: 0.1393 - accuracy: 0.9501\n",
      "Epoch 118/200\n",
      "126/126 [==============================] - 7s 55ms/step - loss: 0.1336 - accuracy: 0.9506\n",
      "Epoch 119/200\n",
      "126/126 [==============================] - 7s 55ms/step - loss: 0.1334 - accuracy: 0.9499\n",
      "Epoch 120/200\n",
      "126/126 [==============================] - 9s 71ms/step - loss: 0.1317 - accuracy: 0.9484\n",
      "Epoch 121/200\n",
      "126/126 [==============================] - 10s 80ms/step - loss: 0.1317 - accuracy: 0.9491\n",
      "Epoch 122/200\n",
      "126/126 [==============================] - 9s 73ms/step - loss: 0.1319 - accuracy: 0.9491\n",
      "Epoch 123/200\n",
      "126/126 [==============================] - 9s 68ms/step - loss: 0.1317 - accuracy: 0.9486\n",
      "Epoch 124/200\n",
      "126/126 [==============================] - 10s 76ms/step - loss: 0.1311 - accuracy: 0.9504\n",
      "Epoch 125/200\n",
      "126/126 [==============================] - 8s 65ms/step - loss: 0.1313 - accuracy: 0.9479\n",
      "Epoch 126/200\n",
      "126/126 [==============================] - 10s 76ms/step - loss: 0.1311 - accuracy: 0.9514\n",
      "Epoch 127/200\n",
      "126/126 [==============================] - 9s 68ms/step - loss: 0.1320 - accuracy: 0.9494\n",
      "Epoch 128/200\n",
      "126/126 [==============================] - 8s 66ms/step - loss: 0.1317 - accuracy: 0.9499\n",
      "Epoch 129/200\n",
      "126/126 [==============================] - 8s 66ms/step - loss: 0.1312 - accuracy: 0.9494\n",
      "Epoch 130/200\n",
      "126/126 [==============================] - 9s 68ms/step - loss: 0.1307 - accuracy: 0.9501\n",
      "Epoch 131/200\n",
      "126/126 [==============================] - 8s 66ms/step - loss: 0.1307 - accuracy: 0.9476\n",
      "Epoch 132/200\n",
      "126/126 [==============================] - 9s 70ms/step - loss: 0.1305 - accuracy: 0.9494\n",
      "Epoch 133/200\n",
      "126/126 [==============================] - 9s 73ms/step - loss: 0.1298 - accuracy: 0.9484\n",
      "Epoch 134/200\n",
      "126/126 [==============================] - 8s 67ms/step - loss: 0.1297 - accuracy: 0.9491\n",
      "Epoch 135/200\n",
      "126/126 [==============================] - 8s 61ms/step - loss: 0.1296 - accuracy: 0.9491\n",
      "Epoch 136/200\n",
      "126/126 [==============================] - 7s 58ms/step - loss: 0.1298 - accuracy: 0.9496\n",
      "Epoch 137/200\n",
      "126/126 [==============================] - 8s 60ms/step - loss: 0.1295 - accuracy: 0.9499\n",
      "Epoch 138/200\n",
      "126/126 [==============================] - 8s 62ms/step - loss: 0.1286 - accuracy: 0.9521\n",
      "Epoch 139/200\n",
      "126/126 [==============================] - 8s 60ms/step - loss: 0.1295 - accuracy: 0.9501\n",
      "Epoch 140/200\n",
      "126/126 [==============================] - 7s 58ms/step - loss: 0.1284 - accuracy: 0.9509\n",
      "Epoch 141/200\n",
      "126/126 [==============================] - 8s 63ms/step - loss: 0.1293 - accuracy: 0.9486\n",
      "Epoch 142/200\n",
      "126/126 [==============================] - 7s 58ms/step - loss: 0.1293 - accuracy: 0.9506\n",
      "Epoch 143/200\n",
      "126/126 [==============================] - 8s 61ms/step - loss: 0.1288 - accuracy: 0.9509\n",
      "Epoch 144/200\n",
      "126/126 [==============================] - 7s 58ms/step - loss: 0.1279 - accuracy: 0.9499\n",
      "Epoch 145/200\n",
      "126/126 [==============================] - 8s 62ms/step - loss: 0.1289 - accuracy: 0.9496\n",
      "Epoch 146/200\n",
      "126/126 [==============================] - 7s 58ms/step - loss: 0.1285 - accuracy: 0.9506\n",
      "Epoch 147/200\n",
      "126/126 [==============================] - 8s 62ms/step - loss: 0.1285 - accuracy: 0.9489\n",
      "Epoch 148/200\n",
      "126/126 [==============================] - 7s 58ms/step - loss: 0.1283 - accuracy: 0.9491\n",
      "Epoch 149/200\n",
      "126/126 [==============================] - 8s 60ms/step - loss: 0.1280 - accuracy: 0.9496\n",
      "Epoch 150/200\n",
      "126/126 [==============================] - 7s 58ms/step - loss: 0.1286 - accuracy: 0.9504\n",
      "Epoch 151/200\n",
      "126/126 [==============================] - 8s 61ms/step - loss: 0.1279 - accuracy: 0.9486\n",
      "Epoch 152/200\n",
      "126/126 [==============================] - 7s 58ms/step - loss: 0.1286 - accuracy: 0.9494\n",
      "Epoch 153/200\n",
      "126/126 [==============================] - 8s 60ms/step - loss: 0.1280 - accuracy: 0.9494\n",
      "Epoch 154/200\n",
      "126/126 [==============================] - 7s 59ms/step - loss: 0.1271 - accuracy: 0.9504\n",
      "Epoch 155/200\n",
      "126/126 [==============================] - 8s 61ms/step - loss: 0.1279 - accuracy: 0.9479\n",
      "Epoch 156/200\n",
      "126/126 [==============================] - 8s 60ms/step - loss: 0.1272 - accuracy: 0.9491\n",
      "Epoch 157/200\n",
      "126/126 [==============================] - 8s 60ms/step - loss: 0.1278 - accuracy: 0.9484\n",
      "Epoch 158/200\n",
      "126/126 [==============================] - 8s 63ms/step - loss: 0.1278 - accuracy: 0.9494\n",
      "Epoch 159/200\n"
     ]
    },
    {
     "name": "stdout",
     "output_type": "stream",
     "text": [
      "126/126 [==============================] - 7s 55ms/step - loss: 0.1272 - accuracy: 0.9504\n",
      "Epoch 160/200\n",
      "126/126 [==============================] - 7s 58ms/step - loss: 0.1278 - accuracy: 0.9491\n",
      "Epoch 161/200\n",
      "126/126 [==============================] - 7s 55ms/step - loss: 0.1275 - accuracy: 0.9501\n",
      "Epoch 162/200\n",
      "126/126 [==============================] - 8s 60ms/step - loss: 0.1265 - accuracy: 0.9504\n",
      "Epoch 163/200\n",
      "126/126 [==============================] - 7s 55ms/step - loss: 0.1268 - accuracy: 0.9496\n",
      "Epoch 164/200\n",
      "126/126 [==============================] - 7s 59ms/step - loss: 0.1271 - accuracy: 0.9484\n",
      "Epoch 165/200\n",
      "126/126 [==============================] - 7s 56ms/step - loss: 0.1268 - accuracy: 0.9489\n",
      "Epoch 166/200\n",
      "126/126 [==============================] - 7s 58ms/step - loss: 0.1646 - accuracy: 0.9400\n",
      "Epoch 167/200\n",
      "126/126 [==============================] - 7s 58ms/step - loss: 0.1609 - accuracy: 0.9390\n",
      "Epoch 168/200\n",
      "126/126 [==============================] - 7s 57ms/step - loss: 0.1345 - accuracy: 0.9484\n",
      "Epoch 169/200\n",
      "126/126 [==============================] - 7s 58ms/step - loss: 0.1285 - accuracy: 0.9501\n",
      "Epoch 170/200\n",
      "126/126 [==============================] - 7s 57ms/step - loss: 0.1276 - accuracy: 0.9506\n",
      "Epoch 171/200\n",
      "126/126 [==============================] - 8s 61ms/step - loss: 0.1270 - accuracy: 0.9496\n",
      "Epoch 172/200\n",
      "126/126 [==============================] - 7s 58ms/step - loss: 0.1269 - accuracy: 0.9504\n",
      "Epoch 173/200\n",
      "126/126 [==============================] - 7s 59ms/step - loss: 0.1272 - accuracy: 0.9504\n",
      "Epoch 174/200\n",
      "126/126 [==============================] - 7s 57ms/step - loss: 0.1264 - accuracy: 0.9501\n",
      "Epoch 175/200\n",
      "126/126 [==============================] - 7s 58ms/step - loss: 0.1275 - accuracy: 0.9514\n",
      "Epoch 176/200\n",
      "126/126 [==============================] - 7s 55ms/step - loss: 0.1268 - accuracy: 0.9514\n",
      "Epoch 177/200\n",
      "126/126 [==============================] - 7s 58ms/step - loss: 0.1267 - accuracy: 0.9516\n",
      "Epoch 178/200\n",
      "126/126 [==============================] - 7s 57ms/step - loss: 0.1269 - accuracy: 0.9494\n",
      "Epoch 179/200\n",
      "126/126 [==============================] - 7s 57ms/step - loss: 0.1267 - accuracy: 0.9501\n",
      "Epoch 180/200\n",
      "126/126 [==============================] - 7s 57ms/step - loss: 0.1265 - accuracy: 0.9494\n",
      "Epoch 181/200\n",
      "126/126 [==============================] - 7s 56ms/step - loss: 0.1270 - accuracy: 0.9471\n",
      "Epoch 182/200\n",
      "126/126 [==============================] - 8s 61ms/step - loss: 0.1270 - accuracy: 0.9489\n",
      "Epoch 183/200\n",
      "126/126 [==============================] - 7s 57ms/step - loss: 0.1264 - accuracy: 0.9501\n",
      "Epoch 184/200\n",
      "126/126 [==============================] - 7s 58ms/step - loss: 0.1262 - accuracy: 0.9491\n",
      "Epoch 185/200\n",
      "126/126 [==============================] - 7s 56ms/step - loss: 0.1261 - accuracy: 0.9499\n",
      "Epoch 186/200\n",
      "126/126 [==============================] - 8s 60ms/step - loss: 0.1264 - accuracy: 0.9506\n",
      "Epoch 187/200\n",
      "126/126 [==============================] - 7s 56ms/step - loss: 0.1266 - accuracy: 0.9489\n",
      "Epoch 188/200\n",
      "126/126 [==============================] - 7s 59ms/step - loss: 0.1270 - accuracy: 0.9506\n",
      "Epoch 189/200\n",
      "126/126 [==============================] - 7s 56ms/step - loss: 0.1257 - accuracy: 0.9519\n",
      "Epoch 190/200\n",
      "126/126 [==============================] - 7s 58ms/step - loss: 0.1267 - accuracy: 0.9491\n",
      "Epoch 191/200\n",
      "126/126 [==============================] - 7s 56ms/step - loss: 0.1265 - accuracy: 0.9491\n",
      "Epoch 192/200\n",
      "126/126 [==============================] - 7s 57ms/step - loss: 0.1260 - accuracy: 0.9494\n",
      "Epoch 193/200\n",
      "126/126 [==============================] - 7s 58ms/step - loss: 0.1261 - accuracy: 0.9491\n",
      "Epoch 194/200\n",
      "126/126 [==============================] - 7s 56ms/step - loss: 0.1259 - accuracy: 0.9504\n",
      "Epoch 195/200\n",
      "126/126 [==============================] - 7s 59ms/step - loss: 0.1255 - accuracy: 0.9499\n",
      "Epoch 196/200\n",
      "126/126 [==============================] - 7s 56ms/step - loss: 0.1260 - accuracy: 0.9516\n",
      "Epoch 197/200\n",
      "126/126 [==============================] - 8s 60ms/step - loss: 0.1260 - accuracy: 0.9499\n",
      "Epoch 198/200\n",
      "126/126 [==============================] - 7s 55ms/step - loss: 0.1261 - accuracy: 0.9509\n",
      "Epoch 199/200\n",
      "126/126 [==============================] - 7s 57ms/step - loss: 0.1260 - accuracy: 0.9489\n",
      "Epoch 200/200\n",
      "126/126 [==============================] - 7s 56ms/step - loss: 0.1261 - accuracy: 0.9474\n"
     ]
    }
   ],
   "source": [
    "history = model.fit(input_to_model, label, epochs=200, batch_size=32, verbose=1)"
   ]
  },
  {
   "cell_type": "markdown",
   "metadata": {},
   "source": [
    "Let's plot details of our training."
   ]
  },
  {
   "cell_type": "code",
   "execution_count": 83,
   "metadata": {},
   "outputs": [
    {
     "data": {
      "image/png": "[encoded data removed]",
      "text/plain": [
       "<Figure size 432x288 with 1 Axes>"
      ]
     },
     "metadata": {
      "needs_background": "light"
     },
     "output_type": "display_data"
    },
    {
     "data": {
      "image/png": "[encoded data removed]",
      "text/plain": [
       "<Figure size 432x288 with 1 Axes>"
      ]
     },
     "metadata": {
      "needs_background": "light"
     },
     "output_type": "display_data"
    }
   ],
   "source": [
    "acc = history.history['accuracy']\n",
    "loss = history.history['loss']\n",
    "epochs = range(len(acc))\n",
    "plt.plot(epochs, acc, 'b', label='Training accuracy')\n",
    "plt.title('Training accuracy')\n",
    "plt.figure()\n",
    "plt.plot(epochs, loss, 'b', label='Training Loss')\n",
    "plt.title('Training loss')\n",
    "plt.legend()\n",
    "plt.show()"
   ]
  },
  {
   "cell_type": "markdown",
   "metadata": {},
   "source": [
    "# Generating fake comments\n",
    "\n",
    "To generate fake tweets, we use the below architecture:\n",
    "\n",
    "![](imgs/text_gen.png)\n",
    "\n",
    "The idea is to give one or more starting token(s) to our model, and generate the next tokens until we generate `.`.\n",
    "\n",
    "At each step, we select the token with the highest probability as our next token and generate the next one similartly using `model.predict_classes()`. \n",
    "\n",
    "**Note:** The model takes as input the activation `a` from the previous state of the LSTM and the token chosen, forward propagate by one step, and get a new output activation `a`. The new activation `a` can then be used to generate the output, using the `dense` layer with `softmax` activation as before. \n",
    "\n"
   ]
  },
  {
   "cell_type": "markdown",
   "metadata": {},
   "source": [
    "**Task 2**: Implement `generate()`. \n",
    "\n",
    "***"
   ]
  },
  {
   "cell_type": "code",
   "execution_count": 84,
   "metadata": {},
   "outputs": [],
   "source": [
    "#TASK 2\n",
    "# Implement the generate() function\n",
    "\n",
    "def generate(seed_text):\n",
    "    ### START CODE HERE ### \n",
    "    pass\n",
    "\n",
    "    for a in range(max_sequence_len):\n",
    "        token_list = tokenizer.texts_to_sequences([seed_text])[0]\n",
    "        \n",
    "        #padding \n",
    "        token_list = pad_sequences([token_list], maxlen= max_sequence_len, padding='pre')\n",
    "        \n",
    "        #word prediction based on padded token\n",
    "        \n",
    "        predicted = model.predict_classes(token_list, verbose=0)\n",
    "  \n",
    "        output_word = \"\"\n",
    "        for word, index in tokenizer.word_index.items():\n",
    "            \n",
    "            if index == predicted:\n",
    "                output_word = word\n",
    "               \n",
    "        seed_text += \" \" + output_word\n",
    "        \n",
    "        if '.' in seed_text:\n",
    "            break\n",
    "        \n",
    "        \n",
    "    return seed_text\n",
    "    ### END CODE HERE ### \n"
   ]
  },
  {
   "cell_type": "markdown",
   "metadata": {},
   "source": [
    "**Let's test it:**"
   ]
  },
  {
   "cell_type": "code",
   "execution_count": 86,
   "metadata": {},
   "outputs": [
    {
     "name": "stdout",
     "output_type": "stream",
     "text": [
      "COVID19 virus survives on surfaces for 7 days .\n",
      "COVID19 is the deadliest virus known to humans .\n",
      "The usa is a canine coronavirus in created and could get a current coronavirus .\n",
      "The new virus was deliberately created or released by people .\n",
      "China has from blame because the culture where people eat bats and snakes and dogs and things like that , these viruses are transmitted from the animal to the people and that's why china has been the source of a lot of these viruses like sars , like mers , the swine flu and now the coronavirus .\n"
     ]
    }
   ],
   "source": [
    "print(generate(\"COVID19 virus\"))\n",
    "print(generate(\"COVID19 is the\"))\n",
    "print(generate(\"The usa is\"))\n",
    "print(generate(\"The new virus\"))\n",
    "print(generate(\"China has\"))\n"
   ]
  },
  {
   "cell_type": "markdown",
   "metadata": {},
   "source": [
    "**Let's test it in an interactive mode:**"
   ]
  },
  {
   "cell_type": "code",
   "execution_count": 87,
   "metadata": {},
   "outputs": [
    {
     "name": "stdout",
     "output_type": "stream",
     "text": [
      "Write the beginning of your tweet, the algorithm machine will complete it. Your input is: Hello\n",
      "Hello services can't resume until we're all vaccinated , says bill gates . "
     ]
    }
   ],
   "source": [
    "usr_input = input(\"Write the beginning of your tweet, the algorithm machine will complete it. Your input is: \")\n",
    "for w in generate(usr_input).split():    \n",
    "    print(w, end =\" \")\n",
    "    time.sleep(0.4)\n"
   ]
  },
  {
   "cell_type": "markdown",
   "metadata": {},
   "source": [
    "# Generating text by sampling\n",
    "\n",
    "The previous part is generating text by choosing the token with the highest probability. Now, we sill generate text by sampling as shown in the architecture below:\n",
    "\n",
    "![](imgs/text_gen_sample.png)\n",
    "\n",
    "\n",
    "**TASK 3:** Implement the `generate_sample()` function. To sample a token from the output at each timestep, you need to use the following two functions:\n",
    "- `model.predict_proba()`: To get probabilities from the output layer.\n",
    "- `np.random.choice()`: To sample from the token list using the probaility array of each token.\n",
    "\n",
    "***"
   ]
  },
  {
   "cell_type": "code",
   "execution_count": 97,
   "metadata": {},
   "outputs": [],
   "source": [
    "#TASK 3\n",
    "# Implement the generate_sample() function\n",
    "def generate_sample(seed_text):\n",
    "   ### START CODE HERE ### \n",
    "    # maximum length of the entire sentence in the text document\n",
    "    for i in range(max_sequence_len):\n",
    "\n",
    "\n",
    "        token_list = tokenizer.texts_to_sequences([seed_text])[0]\n",
    "       \n",
    "\n",
    "        #  padding\n",
    "        token_list = np.array(pad_sequences([token_list], maxlen=max_sequence_len, padding='pre'))\n",
    "\n",
    "        # predict next word \n",
    "        predicted = model.predict_proba(token_list, verbose=0)\n",
    "        predicted_text = predicted.reshape(1257,)\n",
    "        \n",
    "  \n",
    "        #roken pcikingg\n",
    "        random_token = np.random.choice(predicted_text)\n",
    "        index_predicted = np.where(predicted_text == random_token)\n",
    "        \n",
    "        #print(index_predicted[0])\n",
    "        \n",
    "       \n",
    "        output_word = ''\n",
    "        \n",
    "    \n",
    "        for index,word in reverse_word_map.items():\n",
    "            if index_predicted[0] == index:\n",
    "                output_word = word\n",
    "    \n",
    "        seed_text = seed_text + \" \" + output_word\n",
    "        \n",
    "          \n",
    "        # break out of loop if the final token predicted is \".\"\n",
    "        if '.' in seed_text:\n",
    "            break\n",
    "        \n",
    "        \n",
    "       \n",
    "    \n",
    "    return seed_text\n",
    "\n",
    "    ### END CODE HERE ###"
   ]
  },
  {
   "cell_type": "markdown",
   "metadata": {},
   "source": [
    "**Let's test it in an interactive mode:**"
   ]
  },
  {
   "cell_type": "code",
   "execution_count": 96,
   "metadata": {},
   "outputs": [
    {
     "name": "stdout",
     "output_type": "stream",
     "text": [
      "Write the beginning of your tweet, the algorithm machine will complete it. Your input is: university\n",
      "university i well 2019 rivers eye four pneumonia makes vegetable recommended wear off charged see containing swimming vegetable . "
     ]
    }
   ],
   "source": [
    "usr_input = input(\"Write the beginning of your tweet, the algorithm machine will complete it. Your input is: \")\n",
    "for w in generate_sample(usr_input).split():    \n",
    "    print(w, end =\" \")\n",
    "    time.sleep(0.4)\n"
   ]
  },
  {
   "cell_type": "markdown",
   "metadata": {},
   "source": [
    "# Generate your own text \n",
    "\n",
    "Below, use you own data to generate content for a different application:"
   ]
  },
  {
   "cell_type": "code",
   "execution_count": null,
   "metadata": {},
   "outputs": [],
   "source": []
  },
  {
   "cell_type": "markdown",
   "metadata": {},
   "source": [
    "# Congratulations!\n",
    "\n",
    "You've come to the end of this assignment, and have seen how to build a deep learning architecture that generate fake tweets/comments. \n",
    "\n",
    "Congratulations on finishing this notebook! \n",
    "\n"
   ]
  }
 ],
 "metadata": {
  "accelerator": "GPU",
  "colab": {
   "name": "Shakespeare_generatoripynb",
   "provenance": []
  },
  "kernelspec": {
   "display_name": "Python 3",
   "language": "python",
   "name": "python3"
  },
  "language_info": {
   "codemirror_mode": {
    "name": "ipython",
    "version": 3
   },
   "file_extension": ".py",
   "mimetype": "text/x-python",
   "name": "python",
   "nbconvert_exporter": "python",
   "pygments_lexer": "ipython3",
   "version": "3.7.6"
  }
 },
 "nbformat": 4,
 "nbformat_minor": 1
}
